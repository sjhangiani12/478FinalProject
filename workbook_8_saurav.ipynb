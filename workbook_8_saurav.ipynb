{
 "cells": [
  {
   "cell_type": "code",
   "execution_count": 18,
   "metadata": {
    "collapsed": true
   },
   "outputs": [],
   "source": [
    "import pandas as pd \n",
    "import matplotlib.pyplot as plt\n",
    "import seaborn as sns"
   ]
  },
  {
   "cell_type": "code",
   "execution_count": 19,
   "metadata": {
    "collapsed": true
   },
   "outputs": [],
   "source": [
    "data= pd.read_csv('marijuana-use-2016.csv')\n",
    "data.Value.replace({-9999.0: None}, inplace=True)\n",
    "data = data[data.Variable== 'Marijuana Use']"
   ]
  },
  {
   "cell_type": "code",
   "execution_count": 20,
   "metadata": {},
   "outputs": [
    {
     "data": {
      "text/html": [
       "<div>\n",
       "<style scoped>\n",
       "    .dataframe tbody tr th:only-of-type {\n",
       "        vertical-align: middle;\n",
       "    }\n",
       "\n",
       "    .dataframe tbody tr th {\n",
       "        vertical-align: top;\n",
       "    }\n",
       "\n",
       "    .dataframe thead th {\n",
       "        text-align: right;\n",
       "    }\n",
       "</style>\n",
       "<table border=\"1\" class=\"dataframe\">\n",
       "  <thead>\n",
       "    <tr style=\"text-align: right;\">\n",
       "      <th></th>\n",
       "      <th>Region</th>\n",
       "      <th>Year</th>\n",
       "      <th>Age Range</th>\n",
       "      <th>Marijuana Use</th>\n",
       "      <th>Measure Type</th>\n",
       "      <th>Variable</th>\n",
       "      <th>Value</th>\n",
       "    </tr>\n",
       "  </thead>\n",
       "  <tbody>\n",
       "    <tr>\n",
       "      <th>1</th>\n",
       "      <td>Connecticut</td>\n",
       "      <td>2004-2006</td>\n",
       "      <td>12-17</td>\n",
       "      <td>First Use of Marijuana</td>\n",
       "      <td>Percent</td>\n",
       "      <td>Marijuana Use</td>\n",
       "      <td>7.62</td>\n",
       "    </tr>\n",
       "    <tr>\n",
       "      <th>3</th>\n",
       "      <td>Connecticut</td>\n",
       "      <td>2004-2006</td>\n",
       "      <td>12-17</td>\n",
       "      <td>Marijuana Use in the Past Month</td>\n",
       "      <td>Percent</td>\n",
       "      <td>Marijuana Use</td>\n",
       "      <td>8.39</td>\n",
       "    </tr>\n",
       "    <tr>\n",
       "      <th>5</th>\n",
       "      <td>Connecticut</td>\n",
       "      <td>2004-2006</td>\n",
       "      <td>12-17</td>\n",
       "      <td>Marijuana Use in the Past Year</td>\n",
       "      <td>Percent</td>\n",
       "      <td>Marijuana Use</td>\n",
       "      <td>17.79</td>\n",
       "    </tr>\n",
       "    <tr>\n",
       "      <th>7</th>\n",
       "      <td>Connecticut</td>\n",
       "      <td>2004-2006</td>\n",
       "      <td>18-25</td>\n",
       "      <td>First Use of Marijuana</td>\n",
       "      <td>Percent</td>\n",
       "      <td>Marijuana Use</td>\n",
       "      <td>8.33</td>\n",
       "    </tr>\n",
       "    <tr>\n",
       "      <th>9</th>\n",
       "      <td>Connecticut</td>\n",
       "      <td>2004-2006</td>\n",
       "      <td>18-25</td>\n",
       "      <td>Marijuana Use in the Past Month</td>\n",
       "      <td>Percent</td>\n",
       "      <td>Marijuana Use</td>\n",
       "      <td>23.34</td>\n",
       "    </tr>\n",
       "  </tbody>\n",
       "</table>\n",
       "</div>"
      ],
      "text/plain": [
       "        Region       Year Age Range                    Marijuana Use  \\\n",
       "1  Connecticut  2004-2006     12-17           First Use of Marijuana   \n",
       "3  Connecticut  2004-2006     12-17  Marijuana Use in the Past Month   \n",
       "5  Connecticut  2004-2006     12-17   Marijuana Use in the Past Year   \n",
       "7  Connecticut  2004-2006     18-25           First Use of Marijuana   \n",
       "9  Connecticut  2004-2006     18-25  Marijuana Use in the Past Month   \n",
       "\n",
       "  Measure Type       Variable  Value  \n",
       "1      Percent  Marijuana Use   7.62  \n",
       "3      Percent  Marijuana Use   8.39  \n",
       "5      Percent  Marijuana Use  17.79  \n",
       "7      Percent  Marijuana Use   8.33  \n",
       "9      Percent  Marijuana Use  23.34  "
      ]
     },
     "execution_count": 20,
     "metadata": {},
     "output_type": "execute_result"
    }
   ],
   "source": [
    "data.head()"
   ]
  },
  {
   "cell_type": "code",
   "execution_count": 21,
   "metadata": {
    "collapsed": true
   },
   "outputs": [],
   "source": [
    "conneticut = data[data.Region == 'Connecticut']\n",
    "conneticut = conneticut[conneticut['Marijuana Use'] == 'Marijuana Use in the Past Year']"
   ]
  },
  {
   "cell_type": "code",
   "execution_count": 22,
   "metadata": {},
   "outputs": [
    {
     "data": {
      "text/html": [
       "<div>\n",
       "<style scoped>\n",
       "    .dataframe tbody tr th:only-of-type {\n",
       "        vertical-align: middle;\n",
       "    }\n",
       "\n",
       "    .dataframe tbody tr th {\n",
       "        vertical-align: top;\n",
       "    }\n",
       "\n",
       "    .dataframe thead th {\n",
       "        text-align: right;\n",
       "    }\n",
       "</style>\n",
       "<table border=\"1\" class=\"dataframe\">\n",
       "  <thead>\n",
       "    <tr style=\"text-align: right;\">\n",
       "      <th></th>\n",
       "      <th>Region</th>\n",
       "      <th>Year</th>\n",
       "      <th>Age Range</th>\n",
       "      <th>Marijuana Use</th>\n",
       "      <th>Measure Type</th>\n",
       "      <th>Variable</th>\n",
       "      <th>Value</th>\n",
       "    </tr>\n",
       "  </thead>\n",
       "  <tbody>\n",
       "    <tr>\n",
       "      <th>5</th>\n",
       "      <td>Connecticut</td>\n",
       "      <td>2004-2006</td>\n",
       "      <td>12-17</td>\n",
       "      <td>Marijuana Use in the Past Year</td>\n",
       "      <td>Percent</td>\n",
       "      <td>Marijuana Use</td>\n",
       "      <td>17.79</td>\n",
       "    </tr>\n",
       "    <tr>\n",
       "      <th>11</th>\n",
       "      <td>Connecticut</td>\n",
       "      <td>2004-2006</td>\n",
       "      <td>18-25</td>\n",
       "      <td>Marijuana Use in the Past Year</td>\n",
       "      <td>Percent</td>\n",
       "      <td>Marijuana Use</td>\n",
       "      <td>37.72</td>\n",
       "    </tr>\n",
       "    <tr>\n",
       "      <th>17</th>\n",
       "      <td>Connecticut</td>\n",
       "      <td>2004-2006</td>\n",
       "      <td>Over 17</td>\n",
       "      <td>Marijuana Use in the Past Year</td>\n",
       "      <td>Percent</td>\n",
       "      <td>Marijuana Use</td>\n",
       "      <td>12.59</td>\n",
       "    </tr>\n",
       "    <tr>\n",
       "      <th>23</th>\n",
       "      <td>Connecticut</td>\n",
       "      <td>2004-2006</td>\n",
       "      <td>Over 25</td>\n",
       "      <td>Marijuana Use in the Past Year</td>\n",
       "      <td>Percent</td>\n",
       "      <td>Marijuana Use</td>\n",
       "      <td>8.76</td>\n",
       "    </tr>\n",
       "    <tr>\n",
       "      <th>29</th>\n",
       "      <td>Connecticut</td>\n",
       "      <td>2006-2008</td>\n",
       "      <td>12-17</td>\n",
       "      <td>Marijuana Use in the Past Year</td>\n",
       "      <td>Percent</td>\n",
       "      <td>Marijuana Use</td>\n",
       "      <td>14.44</td>\n",
       "    </tr>\n",
       "  </tbody>\n",
       "</table>\n",
       "</div>"
      ],
      "text/plain": [
       "         Region       Year Age Range                   Marijuana Use  \\\n",
       "5   Connecticut  2004-2006     12-17  Marijuana Use in the Past Year   \n",
       "11  Connecticut  2004-2006     18-25  Marijuana Use in the Past Year   \n",
       "17  Connecticut  2004-2006   Over 17  Marijuana Use in the Past Year   \n",
       "23  Connecticut  2004-2006   Over 25  Marijuana Use in the Past Year   \n",
       "29  Connecticut  2006-2008     12-17  Marijuana Use in the Past Year   \n",
       "\n",
       "   Measure Type       Variable  Value  \n",
       "5       Percent  Marijuana Use  17.79  \n",
       "11      Percent  Marijuana Use  37.72  \n",
       "17      Percent  Marijuana Use  12.59  \n",
       "23      Percent  Marijuana Use   8.76  \n",
       "29      Percent  Marijuana Use  14.44  "
      ]
     },
     "execution_count": 22,
     "metadata": {},
     "output_type": "execute_result"
    }
   ],
   "source": [
    "conneticut.head()"
   ]
  },
  {
   "cell_type": "code",
   "execution_count": null,
   "metadata": {
    "collapsed": true
   },
   "outputs": [],
   "source": []
  },
  {
   "cell_type": "markdown",
   "metadata": {},
   "source": [
    "## Marijuana use in conneticut over years"
   ]
  },
  {
   "cell_type": "code",
   "execution_count": 53,
   "metadata": {},
   "outputs": [
    {
     "name": "stderr",
     "output_type": "stream",
     "text": [
      "/anaconda/lib/python3.6/site-packages/seaborn/categorical.py:1428: FutureWarning: remove_na is deprecated and is a private function. Do not use.\n",
      "  stat_data = remove_na(group_data)\n"
     ]
    },
    {
     "data": {
      "image/png": "[encoded data removed]",
      "text/plain": [
       "<matplotlib.figure.Figure at 0x1121dc828>"
      ]
     },
     "metadata": {},
     "output_type": "display_data"
    }
   ],
   "source": [
    "ax = sns.barplot(x=\"Year\", y=\"Value\", data=conneticut)\n",
    "plt.show()\n"
   ]
  },
  {
   "cell_type": "markdown",
   "metadata": {},
   "source": [
    "## Marijuana use over time all regions"
   ]
  },
  {
   "cell_type": "code",
   "execution_count": 16,
   "metadata": {},
   "outputs": [
    {
     "name": "stderr",
     "output_type": "stream",
     "text": [
      "/anaconda/lib/python3.6/site-packages/seaborn/categorical.py:1428: FutureWarning: remove_na is deprecated and is a private function. Do not use.\n",
      "  stat_data = remove_na(group_data)\n"
     ]
    },
    {
     "data": {
      "image/png": "[encoded data removed]",
      "text/plain": [
       "<matplotlib.figure.Figure at 0x11b571828>"
      ]
     },
     "metadata": {},
     "output_type": "display_data"
    }
   ],
   "source": [
    "\n",
    "ax = sns.barplot(x=\"Year\", y=\"Value\", data=data[data.Region == 'Northwestern Region'])\n",
    "plt.show()"
   ]
  },
  {
   "cell_type": "markdown",
   "metadata": {},
   "source": [
    "## Marijuana use by age -- all time and regions"
   ]
  },
  {
   "cell_type": "code",
   "execution_count": 17,
   "metadata": {},
   "outputs": [
    {
     "ename": "NameError",
     "evalue": "name 'conneticut' is not defined",
     "output_type": "error",
     "traceback": [
      "\u001b[0;31m---------------------------------------------------------------------------\u001b[0m",
      "\u001b[0;31mNameError\u001b[0m                                 Traceback (most recent call last)",
      "\u001b[0;32m<ipython-input-17-2ebdd039b099>\u001b[0m in \u001b[0;36m<module>\u001b[0;34m()\u001b[0m\n\u001b[0;32m----> 1\u001b[0;31m \u001b[0max\u001b[0m \u001b[0;34m=\u001b[0m \u001b[0msns\u001b[0m\u001b[0;34m.\u001b[0m\u001b[0mbarplot\u001b[0m\u001b[0;34m(\u001b[0m\u001b[0mx\u001b[0m\u001b[0;34m=\u001b[0m\u001b[0;34m\"Age Range\"\u001b[0m\u001b[0;34m,\u001b[0m \u001b[0my\u001b[0m\u001b[0;34m=\u001b[0m\u001b[0;34m\"Value\"\u001b[0m\u001b[0;34m,\u001b[0m \u001b[0mdata\u001b[0m\u001b[0;34m=\u001b[0m\u001b[0mconneticut\u001b[0m\u001b[0;34m)\u001b[0m\u001b[0;34m\u001b[0m\u001b[0m\n\u001b[0m\u001b[1;32m      2\u001b[0m \u001b[0mplt\u001b[0m\u001b[0;34m.\u001b[0m\u001b[0mshow\u001b[0m\u001b[0;34m(\u001b[0m\u001b[0;34m)\u001b[0m\u001b[0;34m\u001b[0m\u001b[0m\n",
      "\u001b[0;31mNameError\u001b[0m: name 'conneticut' is not defined"
     ]
    }
   ],
   "source": [
    "ax = sns.barplot(x=\"Age Range\", y=\"Value\", data=conneticut)\n",
    "plt.show()\n"
   ]
  },
  {
   "cell_type": "code",
   "execution_count": 11,
   "metadata": {},
   "outputs": [],
   "source": [
    "youth = data[data['Age Range'] == '18-25']\n",
    "youth_national = youth[youth.Region == 'United States']\n",
    "youth_nw = youth[youth.Region == 'Northwestern Region']"
   ]
  },
  {
   "cell_type": "code",
   "execution_count": 12,
   "metadata": {},
   "outputs": [
    {
     "data": {
      "text/plain": [
       "18"
      ]
     },
     "execution_count": 12,
     "metadata": {},
     "output_type": "execute_result"
    }
   ],
   "source": [
    "len(youth_national)"
   ]
  },
  {
   "cell_type": "code",
   "execution_count": 13,
   "metadata": {},
   "outputs": [
    {
     "data": {
      "text/plain": [
       "18"
      ]
     },
     "execution_count": 13,
     "metadata": {},
     "output_type": "execute_result"
    }
   ],
   "source": [
    "len(youth_nw)"
   ]
  },
  {
   "cell_type": "code",
   "execution_count": 14,
   "metadata": {},
   "outputs": [
    {
     "data": {
      "text/html": [
       "<div>\n",
       "<style scoped>\n",
       "    .dataframe tbody tr th:only-of-type {\n",
       "        vertical-align: middle;\n",
       "    }\n",
       "\n",
       "    .dataframe tbody tr th {\n",
       "        vertical-align: top;\n",
       "    }\n",
       "\n",
       "    .dataframe thead th {\n",
       "        text-align: right;\n",
       "    }\n",
       "</style>\n",
       "<table border=\"1\" class=\"dataframe\">\n",
       "  <thead>\n",
       "    <tr style=\"text-align: right;\">\n",
       "      <th></th>\n",
       "      <th>Region</th>\n",
       "      <th>Year</th>\n",
       "      <th>Age Range</th>\n",
       "      <th>Marijuana Use</th>\n",
       "      <th>Measure Type</th>\n",
       "      <th>Variable</th>\n",
       "      <th>Value</th>\n",
       "    </tr>\n",
       "  </thead>\n",
       "  <tbody>\n",
       "    <tr>\n",
       "      <th>583</th>\n",
       "      <td>Northwestern Region</td>\n",
       "      <td>2004-2006</td>\n",
       "      <td>18-25</td>\n",
       "      <td>First Use of Marijuana</td>\n",
       "      <td>Percent</td>\n",
       "      <td>Marijuana Use</td>\n",
       "      <td>9.18</td>\n",
       "    </tr>\n",
       "    <tr>\n",
       "      <th>585</th>\n",
       "      <td>Northwestern Region</td>\n",
       "      <td>2004-2006</td>\n",
       "      <td>18-25</td>\n",
       "      <td>Marijuana Use in the Past Month</td>\n",
       "      <td>Percent</td>\n",
       "      <td>Marijuana Use</td>\n",
       "      <td>22.53</td>\n",
       "    </tr>\n",
       "    <tr>\n",
       "      <th>587</th>\n",
       "      <td>Northwestern Region</td>\n",
       "      <td>2004-2006</td>\n",
       "      <td>18-25</td>\n",
       "      <td>Marijuana Use in the Past Year</td>\n",
       "      <td>Percent</td>\n",
       "      <td>Marijuana Use</td>\n",
       "      <td>None</td>\n",
       "    </tr>\n",
       "    <tr>\n",
       "      <th>607</th>\n",
       "      <td>Northwestern Region</td>\n",
       "      <td>2006-2008</td>\n",
       "      <td>18-25</td>\n",
       "      <td>First Use of Marijuana</td>\n",
       "      <td>Percent</td>\n",
       "      <td>Marijuana Use</td>\n",
       "      <td>7.06</td>\n",
       "    </tr>\n",
       "    <tr>\n",
       "      <th>609</th>\n",
       "      <td>Northwestern Region</td>\n",
       "      <td>2006-2008</td>\n",
       "      <td>18-25</td>\n",
       "      <td>Marijuana Use in the Past Month</td>\n",
       "      <td>Percent</td>\n",
       "      <td>Marijuana Use</td>\n",
       "      <td>18.45</td>\n",
       "    </tr>\n",
       "    <tr>\n",
       "      <th>611</th>\n",
       "      <td>Northwestern Region</td>\n",
       "      <td>2006-2008</td>\n",
       "      <td>18-25</td>\n",
       "      <td>Marijuana Use in the Past Year</td>\n",
       "      <td>Percent</td>\n",
       "      <td>Marijuana Use</td>\n",
       "      <td>31.09</td>\n",
       "    </tr>\n",
       "    <tr>\n",
       "      <th>631</th>\n",
       "      <td>Northwestern Region</td>\n",
       "      <td>2008-2010</td>\n",
       "      <td>18-25</td>\n",
       "      <td>First Use of Marijuana</td>\n",
       "      <td>Percent</td>\n",
       "      <td>Marijuana Use</td>\n",
       "      <td>10.92</td>\n",
       "    </tr>\n",
       "    <tr>\n",
       "      <th>633</th>\n",
       "      <td>Northwestern Region</td>\n",
       "      <td>2008-2010</td>\n",
       "      <td>18-25</td>\n",
       "      <td>Marijuana Use in the Past Month</td>\n",
       "      <td>Percent</td>\n",
       "      <td>Marijuana Use</td>\n",
       "      <td>22.3</td>\n",
       "    </tr>\n",
       "    <tr>\n",
       "      <th>635</th>\n",
       "      <td>Northwestern Region</td>\n",
       "      <td>2008-2010</td>\n",
       "      <td>18-25</td>\n",
       "      <td>Marijuana Use in the Past Year</td>\n",
       "      <td>Percent</td>\n",
       "      <td>Marijuana Use</td>\n",
       "      <td>36.2</td>\n",
       "    </tr>\n",
       "    <tr>\n",
       "      <th>655</th>\n",
       "      <td>Northwestern Region</td>\n",
       "      <td>2010-2012</td>\n",
       "      <td>18-25</td>\n",
       "      <td>First Use of Marijuana</td>\n",
       "      <td>Percent</td>\n",
       "      <td>Marijuana Use</td>\n",
       "      <td>8.79</td>\n",
       "    </tr>\n",
       "    <tr>\n",
       "      <th>657</th>\n",
       "      <td>Northwestern Region</td>\n",
       "      <td>2010-2012</td>\n",
       "      <td>18-25</td>\n",
       "      <td>Marijuana Use in the Past Month</td>\n",
       "      <td>Percent</td>\n",
       "      <td>Marijuana Use</td>\n",
       "      <td>None</td>\n",
       "    </tr>\n",
       "    <tr>\n",
       "      <th>659</th>\n",
       "      <td>Northwestern Region</td>\n",
       "      <td>2010-2012</td>\n",
       "      <td>18-25</td>\n",
       "      <td>Marijuana Use in the Past Year</td>\n",
       "      <td>Percent</td>\n",
       "      <td>Marijuana Use</td>\n",
       "      <td>None</td>\n",
       "    </tr>\n",
       "    <tr>\n",
       "      <th>679</th>\n",
       "      <td>Northwestern Region</td>\n",
       "      <td>2012-2014</td>\n",
       "      <td>18-25</td>\n",
       "      <td>First Use of Marijuana</td>\n",
       "      <td>Percent</td>\n",
       "      <td>Marijuana Use</td>\n",
       "      <td>7.84</td>\n",
       "    </tr>\n",
       "    <tr>\n",
       "      <th>681</th>\n",
       "      <td>Northwestern Region</td>\n",
       "      <td>2012-2014</td>\n",
       "      <td>18-25</td>\n",
       "      <td>Marijuana Use in the Past Month</td>\n",
       "      <td>Percent</td>\n",
       "      <td>Marijuana Use</td>\n",
       "      <td>None</td>\n",
       "    </tr>\n",
       "    <tr>\n",
       "      <th>683</th>\n",
       "      <td>Northwestern Region</td>\n",
       "      <td>2012-2014</td>\n",
       "      <td>18-25</td>\n",
       "      <td>Marijuana Use in the Past Year</td>\n",
       "      <td>Percent</td>\n",
       "      <td>Marijuana Use</td>\n",
       "      <td>None</td>\n",
       "    </tr>\n",
       "    <tr>\n",
       "      <th>703</th>\n",
       "      <td>Northwestern Region</td>\n",
       "      <td>2014-2016</td>\n",
       "      <td>18-25</td>\n",
       "      <td>First Use of Marijuana</td>\n",
       "      <td>Percent</td>\n",
       "      <td>Marijuana Use</td>\n",
       "      <td>7.85</td>\n",
       "    </tr>\n",
       "    <tr>\n",
       "      <th>705</th>\n",
       "      <td>Northwestern Region</td>\n",
       "      <td>2014-2016</td>\n",
       "      <td>18-25</td>\n",
       "      <td>Marijuana Use in the Past Month</td>\n",
       "      <td>Percent</td>\n",
       "      <td>Marijuana Use</td>\n",
       "      <td>23.53</td>\n",
       "    </tr>\n",
       "    <tr>\n",
       "      <th>707</th>\n",
       "      <td>Northwestern Region</td>\n",
       "      <td>2014-2016</td>\n",
       "      <td>18-25</td>\n",
       "      <td>Marijuana Use in the Past Year</td>\n",
       "      <td>Percent</td>\n",
       "      <td>Marijuana Use</td>\n",
       "      <td>None</td>\n",
       "    </tr>\n",
       "  </tbody>\n",
       "</table>\n",
       "</div>"
      ],
      "text/plain": [
       "                  Region       Year Age Range  \\\n",
       "583  Northwestern Region  2004-2006     18-25   \n",
       "585  Northwestern Region  2004-2006     18-25   \n",
       "587  Northwestern Region  2004-2006     18-25   \n",
       "607  Northwestern Region  2006-2008     18-25   \n",
       "609  Northwestern Region  2006-2008     18-25   \n",
       "611  Northwestern Region  2006-2008     18-25   \n",
       "631  Northwestern Region  2008-2010     18-25   \n",
       "633  Northwestern Region  2008-2010     18-25   \n",
       "635  Northwestern Region  2008-2010     18-25   \n",
       "655  Northwestern Region  2010-2012     18-25   \n",
       "657  Northwestern Region  2010-2012     18-25   \n",
       "659  Northwestern Region  2010-2012     18-25   \n",
       "679  Northwestern Region  2012-2014     18-25   \n",
       "681  Northwestern Region  2012-2014     18-25   \n",
       "683  Northwestern Region  2012-2014     18-25   \n",
       "703  Northwestern Region  2014-2016     18-25   \n",
       "705  Northwestern Region  2014-2016     18-25   \n",
       "707  Northwestern Region  2014-2016     18-25   \n",
       "\n",
       "                       Marijuana Use Measure Type       Variable  Value  \n",
       "583           First Use of Marijuana      Percent  Marijuana Use   9.18  \n",
       "585  Marijuana Use in the Past Month      Percent  Marijuana Use  22.53  \n",
       "587   Marijuana Use in the Past Year      Percent  Marijuana Use   None  \n",
       "607           First Use of Marijuana      Percent  Marijuana Use   7.06  \n",
       "609  Marijuana Use in the Past Month      Percent  Marijuana Use  18.45  \n",
       "611   Marijuana Use in the Past Year      Percent  Marijuana Use  31.09  \n",
       "631           First Use of Marijuana      Percent  Marijuana Use  10.92  \n",
       "633  Marijuana Use in the Past Month      Percent  Marijuana Use   22.3  \n",
       "635   Marijuana Use in the Past Year      Percent  Marijuana Use   36.2  \n",
       "655           First Use of Marijuana      Percent  Marijuana Use   8.79  \n",
       "657  Marijuana Use in the Past Month      Percent  Marijuana Use   None  \n",
       "659   Marijuana Use in the Past Year      Percent  Marijuana Use   None  \n",
       "679           First Use of Marijuana      Percent  Marijuana Use   7.84  \n",
       "681  Marijuana Use in the Past Month      Percent  Marijuana Use   None  \n",
       "683   Marijuana Use in the Past Year      Percent  Marijuana Use   None  \n",
       "703           First Use of Marijuana      Percent  Marijuana Use   7.85  \n",
       "705  Marijuana Use in the Past Month      Percent  Marijuana Use  23.53  \n",
       "707   Marijuana Use in the Past Year      Percent  Marijuana Use   None  "
      ]
     },
     "execution_count": 14,
     "metadata": {},
     "output_type": "execute_result"
    }
   ],
   "source": [
    "youth_nw"
   ]
  },
  {
   "cell_type": "code",
   "execution_count": null,
   "metadata": {
    "collapsed": true
   },
   "outputs": [],
   "source": []
  }
 ],
 "metadata": {
  "kernelspec": {
   "display_name": "Python 3",
   "language": "python",
   "name": "python3"
  },
  "language_info": {
   "codemirror_mode": {
    "name": "ipython",
    "version": 3
   },
   "file_extension": ".py",
   "mimetype": "text/x-python",
   "name": "python",
   "nbconvert_exporter": "python",
   "pygments_lexer": "ipython3",
   "version": "3.6.1"
  }
 },
 "nbformat": 4,
 "nbformat_minor": 2
}
