{
 "cells": [
  {
   "cell_type": "markdown",
   "metadata": {},
   "source": [
    "## Notes and observations about the data \n",
    "* Lots of cases where the person hasn't consumed weed in the last 30 days but is still a strong/medium/light consumer - so essentially, Marijuana_consumer_last30 is not a strong indicator of user/non user\n",
    "* T-Test on users vs non users for days of workout shows non significant difference"
   ]
  },
  {
   "cell_type": "markdown",
   "metadata": {},
   "source": [
    "## Data Cleaning"
   ]
  },
  {
   "cell_type": "code",
   "execution_count": 297,
   "metadata": {
    "collapsed": true
   },
   "outputs": [],
   "source": [
    "import pandas as pd\n",
    "import numpy as np\n",
    "import matplotlib.pyplot as plt\n",
    "import seaborn as sns\n",
    "from scipy import stats"
   ]
  },
  {
   "cell_type": "code",
   "execution_count": 298,
   "metadata": {
    "collapsed": true
   },
   "outputs": [],
   "source": [
    "survey_data = pd.read_csv('data/uw_survey_may31_4_30pm.csv')"
   ]
  },
  {
   "cell_type": "code",
   "execution_count": 299,
   "metadata": {},
   "outputs": [
    {
     "data": {
      "text/plain": [
       "Index(['Timestamp', 'What is your age', 'Which gender do you identify with?',\n",
       "       'What is your major?',\n",
       "       'Have you consumed marijuana (smoke, edibles, drinks etc.) in last 30 days?',\n",
       "       'In the last 30 days, how many days a week have you consumed marijuana?',\n",
       "       'Do you consider yourself to be a:',\n",
       "       'In the last 30 days, how many days a week did you workout/exercise?',\n",
       "       'In the last 30 days, did you attempt to do any school related work (study, complete assignments etc) under the influence of marijuana?',\n",
       "       'How do you think marijuana consumption affects your state of mind (select none if not a user)  - It makes it ',\n",
       "       'Under the influence of Marijuana do you feel like consuming any of the following substances (check all that apply) ',\n",
       "       'Do you ever experience any of the following instabilities mentally or emotionally?',\n",
       "       'Do you use marijuana to combat these mental health issues?',\n",
       "       'Have you considered using other recreational drugs due to your comfort with marijuana?'],\n",
       "      dtype='object')"
      ]
     },
     "execution_count": 299,
     "metadata": {},
     "output_type": "execute_result"
    }
   ],
   "source": [
    "# survey_data.head()\n",
    "survey_data.columns"
   ]
  },
  {
   "cell_type": "code",
   "execution_count": 300,
   "metadata": {},
   "outputs": [],
   "source": [
    "# change column names for ease of access\n",
    "names = ['Timestamp', 'Age', 'Sex', 'Major', 'Marijuana_consumer_last30',\n",
    "                       'days_per_week', 'user_type', 'workout', 'school_work', 'state_of_mind',\n",
    "                      'other_drug_consumption', 'mental_health', 'weed_to_mental', 'other_drug_ease']\n",
    "survey_data.columns = names\n",
    "# removing row with gender  == chimpanzee\n",
    "survey_data = survey_data[survey_data.Sex  != 'Chimpanzee']\n",
    "survey_data.reset_index(inplace=True)"
   ]
  },
  {
   "cell_type": "code",
   "execution_count": null,
   "metadata": {
    "scrolled": false
   },
   "outputs": [],
   "source": []
  },
  {
   "cell_type": "markdown",
   "metadata": {},
   "source": []
  },
  {
   "cell_type": "code",
   "execution_count": null,
   "metadata": {},
   "outputs": [],
   "source": []
  },
  {
   "cell_type": "code",
   "execution_count": 307,
   "metadata": {},
   "outputs": [],
   "source": [
    "# Changing not specified major type from nan to 'None' for future processing\n",
    "for index, major in enumerate(survey_data.Major):\n",
    "    if type(major) is float:\n",
    "        survey_data.Major[index] = 'None'\n",
    "\n"
   ]
  },
  {
   "cell_type": "code",
   "execution_count": null,
   "metadata": {},
   "outputs": [],
   "source": []
  },
  {
   "cell_type": "code",
   "execution_count": 310,
   "metadata": {},
   "outputs": [],
   "source": [
    "# mapping for majors\n",
    "major_mapping = {\n",
    "    'Computer Science' : ['computer science', 'cse', 'cs', 'cs + math', 'computer science '\n",
    "                          , 'computer science & software engineering', 'cee', 'computer engineering'\n",
    "                         ],\n",
    "    'Business' : ['business' , 'business; informatics', 'Marketing','business admin', 'business/lsj',\n",
    "                 'business administration ', 'business administration', 'accounting and information systems',\n",
    "                 'business and sociology', 'accounting', 'accounting ', 'business ', 'marketing', 'mba'],\n",
    "    \n",
    "    'Informatics' : ['info ', 'informatics ', 'informatics intended ', 'intended informatics', 'informatics', 'info',\n",
    "                     'infortmatics','pre-info','informatics, spanish', 'informatics, chid major'],\n",
    "    \n",
    "    'Not Specified' : ['none', 'undecided', 'pre-science', 'dude idek', 'pre-major', 'pre sciences'],\n",
    "    'Psychology' : ['psychology', 'psychology / speech & hearing sciences'],\n",
    "    'Communications' : ['comm', 'communication/psychology', 'com', 'journalism', 'communications '],\n",
    "    'chemistry' : ['chemistry'],\n",
    "    'Political Science' : ['political science', 'political science '],\n",
    "    'Physics' : ['physocs', 'applied physics', 'physics'],\n",
    "    'Electrical Engineering' : ['electrical engineering'],\n",
    "    'Unspecified Engineering' : ['engineering', 'engineering ','ece', 'industrial and systems engineering', 'industrial engineering'],\n",
    "    'Biology' : ['biology mcd', 'biology', 'biology ', 'biochemistry', 'biology or biochemistry','bio', 'bio ',\n",
    "                 'molecular cellular developmental biology', 'biology mcd', 'bioengineering', \n",
    "                 'bioengineering and computer science', 'biology or biochemistry ', 'mcd biology'],\n",
    "    'History'  : ['history & hcde', 'history'],\n",
    "    'Math' : ['mathematics'],\n",
    "    'Economics' : ['econ', 'economics', 'hopefully econ'],\n",
    "    'Environmental Studies' : ['environmental studies', 'environmental studies ', 'environmental health', 'environmental health '],\n",
    "    'Political Science' : ['political science & communications', 'political science',  'political science ' ,'political economics '],\n",
    "    'Others' : ['american ethnic studies', 'atmospheric science ', 'chid', 'ess', 'english and jsis yuh tuh wuh', 'esrm', 'ethnomusicology', 'gis', 'geography', \n",
    "                'hcde', 'intended statistics', 'international studies', 'jsis ', 'jsis & lsj', 'lsj', 'law, societies, and justice ', 'music education', 'nursing',\n",
    "                'physiology ', 'psychology ', 'public health', 'public health global health', 'social work', 'statistics', 'women’s studies', 'nursing', 'psychology & philosophy ']\n",
    "    \n",
    "    \n",
    "}"
   ]
  },
  {
   "cell_type": "code",
   "execution_count": 311,
   "metadata": {},
   "outputs": [
    {
     "name": "stderr",
     "output_type": "stream",
     "text": [
      "/anaconda/lib/python3.6/site-packages/ipykernel_launcher.py:5: SettingWithCopyWarning: \n",
      "A value is trying to be set on a copy of a slice from a DataFrame\n",
      "\n",
      "See the caveats in the documentation: http://pandas.pydata.org/pandas-docs/stable/indexing.html#indexing-view-versus-copy\n",
      "  \"\"\"\n"
     ]
    }
   ],
   "source": [
    "# mapping raw major name to specified category\n",
    "for i in range(0, len(survey_data)) :\n",
    "    current_major = survey_data.Major[i]\n",
    "    for key in major_mapping.keys():\n",
    "        if current_major.lower() in major_mapping[key]:\n",
    "            survey_data.Major[i] = key\n",
    "        \n",
    "\n"
   ]
  },
  {
   "cell_type": "code",
   "execution_count": null,
   "metadata": {
    "scrolled": true
   },
   "outputs": [],
   "source": []
  },
  {
   "cell_type": "code",
   "execution_count": 313,
   "metadata": {},
   "outputs": [
    {
     "data": {
      "text/html": [
       "<div>\n",
       "<style scoped>\n",
       "    .dataframe tbody tr th:only-of-type {\n",
       "        vertical-align: middle;\n",
       "    }\n",
       "\n",
       "    .dataframe tbody tr th {\n",
       "        vertical-align: top;\n",
       "    }\n",
       "\n",
       "    .dataframe thead th {\n",
       "        text-align: right;\n",
       "    }\n",
       "</style>\n",
       "<table border=\"1\" class=\"dataframe\">\n",
       "  <thead>\n",
       "    <tr style=\"text-align: right;\">\n",
       "      <th></th>\n",
       "      <th>index</th>\n",
       "      <th>Timestamp</th>\n",
       "      <th>Age</th>\n",
       "      <th>Sex</th>\n",
       "      <th>Major</th>\n",
       "      <th>Marijuana_consumer_last30</th>\n",
       "      <th>days_per_week</th>\n",
       "      <th>user_type</th>\n",
       "      <th>workout</th>\n",
       "      <th>school_work</th>\n",
       "      <th>state_of_mind</th>\n",
       "      <th>other_drug_consumption</th>\n",
       "      <th>mental_health</th>\n",
       "      <th>weed_to_mental</th>\n",
       "      <th>other_drug_ease</th>\n",
       "    </tr>\n",
       "  </thead>\n",
       "  <tbody>\n",
       "    <tr>\n",
       "      <th>0</th>\n",
       "      <td>0</td>\n",
       "      <td>2019/05/29 5:00:48 PM MDT</td>\n",
       "      <td>20</td>\n",
       "      <td>Female</td>\n",
       "      <td>Physics</td>\n",
       "      <td>Yes</td>\n",
       "      <td>1</td>\n",
       "      <td>Light consumer</td>\n",
       "      <td>0</td>\n",
       "      <td>No</td>\n",
       "      <td>Depends on the strain, alternate between paran...</td>\n",
       "      <td>Just food</td>\n",
       "      <td>Anxiety</td>\n",
       "      <td>No</td>\n",
       "      <td>Yes</td>\n",
       "    </tr>\n",
       "    <tr>\n",
       "      <th>1</th>\n",
       "      <td>1</td>\n",
       "      <td>2019/05/29 5:01:04 PM MDT</td>\n",
       "      <td>17</td>\n",
       "      <td>Female</td>\n",
       "      <td>Computer Science</td>\n",
       "      <td>No</td>\n",
       "      <td>0</td>\n",
       "      <td>None</td>\n",
       "      <td>4</td>\n",
       "      <td>No</td>\n",
       "      <td>accidentally clicked on a button</td>\n",
       "      <td>none</td>\n",
       "      <td>Other</td>\n",
       "      <td>No</td>\n",
       "      <td>No</td>\n",
       "    </tr>\n",
       "    <tr>\n",
       "      <th>2</th>\n",
       "      <td>2</td>\n",
       "      <td>2019/05/29 5:03:18 PM MDT</td>\n",
       "      <td>20</td>\n",
       "      <td>Male</td>\n",
       "      <td>Computer Science</td>\n",
       "      <td>No</td>\n",
       "      <td>0</td>\n",
       "      <td>None</td>\n",
       "      <td>7</td>\n",
       "      <td>No</td>\n",
       "      <td>Probably like alcohol</td>\n",
       "      <td>NaN</td>\n",
       "      <td>Other</td>\n",
       "      <td>No</td>\n",
       "      <td>No</td>\n",
       "    </tr>\n",
       "    <tr>\n",
       "      <th>3</th>\n",
       "      <td>3</td>\n",
       "      <td>2019/05/29 5:03:24 PM MDT</td>\n",
       "      <td>30</td>\n",
       "      <td>Female</td>\n",
       "      <td>Business</td>\n",
       "      <td>Yes</td>\n",
       "      <td>1</td>\n",
       "      <td>Light consumer</td>\n",
       "      <td>4</td>\n",
       "      <td>Yes</td>\n",
       "      <td>Relaxed</td>\n",
       "      <td>Alcohol</td>\n",
       "      <td>Anxiety;Stress;Depression</td>\n",
       "      <td>Yes</td>\n",
       "      <td>No</td>\n",
       "    </tr>\n",
       "    <tr>\n",
       "      <th>4</th>\n",
       "      <td>4</td>\n",
       "      <td>2019/05/29 5:03:39 PM MDT</td>\n",
       "      <td>21</td>\n",
       "      <td>Male</td>\n",
       "      <td>Not Specified</td>\n",
       "      <td>Yes</td>\n",
       "      <td>3</td>\n",
       "      <td>Light consumer</td>\n",
       "      <td>1</td>\n",
       "      <td>Yes</td>\n",
       "      <td>Paranoid</td>\n",
       "      <td>Nicotine</td>\n",
       "      <td>Anxiety;Stress;Depression</td>\n",
       "      <td>Yes</td>\n",
       "      <td>Yes</td>\n",
       "    </tr>\n",
       "  </tbody>\n",
       "</table>\n",
       "</div>"
      ],
      "text/plain": [
       "   index                  Timestamp  Age     Sex             Major  \\\n",
       "0      0  2019/05/29 5:00:48 PM MDT   20  Female           Physics   \n",
       "1      1  2019/05/29 5:01:04 PM MDT   17  Female  Computer Science   \n",
       "2      2  2019/05/29 5:03:18 PM MDT   20    Male  Computer Science   \n",
       "3      3  2019/05/29 5:03:24 PM MDT   30  Female          Business   \n",
       "4      4  2019/05/29 5:03:39 PM MDT   21    Male     Not Specified   \n",
       "\n",
       "  Marijuana_consumer_last30  days_per_week       user_type  workout  \\\n",
       "0                       Yes              1  Light consumer        0   \n",
       "1                        No              0            None        4   \n",
       "2                        No              0            None        7   \n",
       "3                       Yes              1  Light consumer        4   \n",
       "4                       Yes              3  Light consumer        1   \n",
       "\n",
       "  school_work                                      state_of_mind  \\\n",
       "0          No  Depends on the strain, alternate between paran...   \n",
       "1          No                   accidentally clicked on a button   \n",
       "2          No                              Probably like alcohol   \n",
       "3         Yes                                            Relaxed   \n",
       "4         Yes                                           Paranoid   \n",
       "\n",
       "  other_drug_consumption              mental_health weed_to_mental  \\\n",
       "0              Just food                    Anxiety             No   \n",
       "1                   none                      Other             No   \n",
       "2                    NaN                      Other             No   \n",
       "3                Alcohol  Anxiety;Stress;Depression            Yes   \n",
       "4               Nicotine  Anxiety;Stress;Depression            Yes   \n",
       "\n",
       "  other_drug_ease  \n",
       "0             Yes  \n",
       "1              No  \n",
       "2              No  \n",
       "3              No  \n",
       "4             Yes  "
      ]
     },
     "execution_count": 313,
     "metadata": {},
     "output_type": "execute_result"
    }
   ],
   "source": [
    "survey_data.head()"
   ]
  },
  {
   "cell_type": "code",
   "execution_count": 314,
   "metadata": {},
   "outputs": [
    {
     "data": {
      "text/plain": [
       "Index(['index', 'Timestamp', 'Age', 'Sex', 'Major',\n",
       "       'Marijuana_consumer_last30', 'days_per_week', 'user_type', 'workout',\n",
       "       'school_work', 'state_of_mind', 'other_drug_consumption',\n",
       "       'mental_health', 'weed_to_mental', 'other_drug_ease'],\n",
       "      dtype='object')"
      ]
     },
     "execution_count": 314,
     "metadata": {},
     "output_type": "execute_result"
    }
   ],
   "source": [
    "survey_data.columns"
   ]
  },
  {
   "cell_type": "code",
   "execution_count": null,
   "metadata": {},
   "outputs": [],
   "source": []
  },
  {
   "cell_type": "code",
   "execution_count": null,
   "metadata": {},
   "outputs": [],
   "source": []
  },
  {
   "cell_type": "code",
   "execution_count": null,
   "metadata": {
    "collapsed": true
   },
   "outputs": [],
   "source": []
  },
  {
   "cell_type": "code",
   "execution_count": null,
   "metadata": {
    "collapsed": true
   },
   "outputs": [],
   "source": []
  },
  {
   "cell_type": "code",
   "execution_count": null,
   "metadata": {
    "collapsed": true
   },
   "outputs": [],
   "source": []
  },
  {
   "cell_type": "markdown",
   "metadata": {},
   "source": [
    "## Analysis"
   ]
  },
  {
   "cell_type": "code",
   "execution_count": 346,
   "metadata": {},
   "outputs": [],
   "source": [
    "user = survey_data[survey_data.Marijuana_consumer_last30 == 'Yes']\n",
    "non_user = survey_data[survey_data.Marijuana_consumer_last30 == 'No']\n",
    "heavy_user = survey_data[survey_data.days_per_week >= 6]"
   ]
  },
  {
   "cell_type": "code",
   "execution_count": 342,
   "metadata": {},
   "outputs": [
    {
     "data": {
      "text/plain": [
       "0.6517412935323383"
      ]
     },
     "execution_count": 342,
     "metadata": {},
     "output_type": "execute_result"
    }
   ],
   "source": [
    "# %age of weed consumers\n",
    "len(user)/len(survey_data)"
   ]
  },
  {
   "cell_type": "code",
   "execution_count": 343,
   "metadata": {},
   "outputs": [
    {
     "data": {
      "text/plain": [
       "0.3482587064676617"
      ]
     },
     "execution_count": 343,
     "metadata": {},
     "output_type": "execute_result"
    }
   ],
   "source": [
    "# %age of non consumers\n",
    "len(non_user)/len(survey_data)"
   ]
  },
  {
   "cell_type": "code",
   "execution_count": 344,
   "metadata": {},
   "outputs": [
    {
     "data": {
      "text/plain": [
       "2.954198473282443"
      ]
     },
     "execution_count": 344,
     "metadata": {},
     "output_type": "execute_result"
    }
   ],
   "source": [
    "np.mean(user.workout)"
   ]
  },
  {
   "cell_type": "code",
   "execution_count": 345,
   "metadata": {},
   "outputs": [
    {
     "data": {
      "text/plain": [
       "2.7714285714285714"
      ]
     },
     "execution_count": 345,
     "metadata": {},
     "output_type": "execute_result"
    }
   ],
   "source": [
    "np.mean(non_user.workout)"
   ]
  },
  {
   "cell_type": "code",
   "execution_count": 338,
   "metadata": {},
   "outputs": [
    {
     "data": {
      "text/plain": [
       "Ttest_indResult(statistic=0.3968189517607687, pvalue=0.69192620272376226)"
      ]
     },
     "execution_count": 338,
     "metadata": {},
     "output_type": "execute_result"
    }
   ],
   "source": [
    "# P-Value = 0.69, pretty high, cannot reject null hypothesis, difference in mean is not significant\n",
    "stats.ttest_ind(non_user.workout,user.workout)"
   ]
  },
  {
   "cell_type": "code",
   "execution_count": 339,
   "metadata": {},
   "outputs": [
    {
     "data": {
      "text/html": [
       "<div>\n",
       "<style scoped>\n",
       "    .dataframe tbody tr th:only-of-type {\n",
       "        vertical-align: middle;\n",
       "    }\n",
       "\n",
       "    .dataframe tbody tr th {\n",
       "        vertical-align: top;\n",
       "    }\n",
       "\n",
       "    .dataframe thead th {\n",
       "        text-align: right;\n",
       "    }\n",
       "</style>\n",
       "<table border=\"1\" class=\"dataframe\">\n",
       "  <thead>\n",
       "    <tr style=\"text-align: right;\">\n",
       "      <th></th>\n",
       "      <th>index</th>\n",
       "      <th>Age</th>\n",
       "      <th>days_per_week</th>\n",
       "      <th>workout</th>\n",
       "    </tr>\n",
       "    <tr>\n",
       "      <th>user_type</th>\n",
       "      <th></th>\n",
       "      <th></th>\n",
       "      <th></th>\n",
       "      <th></th>\n",
       "    </tr>\n",
       "  </thead>\n",
       "  <tbody>\n",
       "    <tr>\n",
       "      <th>Heavy consumer</th>\n",
       "      <td>106.923077</td>\n",
       "      <td>20.846154</td>\n",
       "      <td>6.038462</td>\n",
       "      <td>2.846154</td>\n",
       "    </tr>\n",
       "    <tr>\n",
       "      <th>Light consumer</th>\n",
       "      <td>98.189189</td>\n",
       "      <td>20.540541</td>\n",
       "      <td>1.229730</td>\n",
       "      <td>2.540541</td>\n",
       "    </tr>\n",
       "    <tr>\n",
       "      <th>Moderate consumer</th>\n",
       "      <td>99.708333</td>\n",
       "      <td>20.312500</td>\n",
       "      <td>3.750000</td>\n",
       "      <td>3.333333</td>\n",
       "    </tr>\n",
       "    <tr>\n",
       "      <th>None</th>\n",
       "      <td>102.716981</td>\n",
       "      <td>20.132075</td>\n",
       "      <td>0.000000</td>\n",
       "      <td>3.000000</td>\n",
       "    </tr>\n",
       "  </tbody>\n",
       "</table>\n",
       "</div>"
      ],
      "text/plain": [
       "                        index        Age  days_per_week   workout\n",
       "user_type                                                        \n",
       "Heavy consumer     106.923077  20.846154       6.038462  2.846154\n",
       "Light consumer      98.189189  20.540541       1.229730  2.540541\n",
       "Moderate consumer   99.708333  20.312500       3.750000  3.333333\n",
       "None               102.716981  20.132075       0.000000  3.000000"
      ]
     },
     "execution_count": 339,
     "metadata": {},
     "output_type": "execute_result"
    }
   ],
   "source": [
    "# average days per week and days of workout for types of marijuana users\n",
    "survey_data.groupby(['user_type']).mean()"
   ]
  },
  {
   "cell_type": "code",
   "execution_count": 347,
   "metadata": {},
   "outputs": [
    {
     "data": {
      "text/plain": [
       "Ttest_indResult(statistic=-0.95774975168063925, pvalue=0.34052204563360189)"
      ]
     },
     "execution_count": 347,
     "metadata": {},
     "output_type": "execute_result"
    }
   ],
   "source": [
    "# P-Value = 0.34, pretty high, cannot reject null hypothesis, difference in mean is not significant\n",
    "stats.ttest_ind(non_user.workout, heavy_user.workout)"
   ]
  },
  {
   "cell_type": "code",
   "execution_count": 352,
   "metadata": {},
   "outputs": [
    {
     "name": "stderr",
     "output_type": "stream",
     "text": [
      "/anaconda/lib/python3.6/site-packages/seaborn/categorical.py:1428: FutureWarning: remove_na is deprecated and is a private function. Do not use.\n",
      "  stat_data = remove_na(group_data)\n"
     ]
    },
    {
     "data": {
      "image/png": "[encoded data removed]",
      "text/plain": [
       "<matplotlib.figure.Figure at 0x10dc4bda0>"
      ]
     },
     "metadata": {},
     "output_type": "display_data"
    }
   ],
   "source": [
    "ax =sns.barplot(\"days_per_week\",\"Major\",  data=survey_data)\n",
    "plt.show()"
   ]
  },
  {
   "cell_type": "code",
   "execution_count": 353,
   "metadata": {},
   "outputs": [
    {
     "name": "stderr",
     "output_type": "stream",
     "text": [
      "/anaconda/lib/python3.6/site-packages/seaborn/categorical.py:1428: FutureWarning: remove_na is deprecated and is a private function. Do not use.\n",
      "  stat_data = remove_na(group_data)\n"
     ]
    },
    {
     "data": {
      "image/png": "[encoded data removed]",
      "text/plain": [
       "<matplotlib.figure.Figure at 0x10dbc3d68>"
      ]
     },
     "metadata": {},
     "output_type": "display_data"
    }
   ],
   "source": [
    "ax =sns.barplot(\"workout\",\"Major\",  data=survey_data)\n",
    "plt.show()"
   ]
  },
  {
   "cell_type": "code",
   "execution_count": 355,
   "metadata": {},
   "outputs": [
    {
     "data": {
      "image/png": "[encoded data removed]",
      "text/plain": [
       "<matplotlib.figure.Figure at 0x10fbd20f0>"
      ]
     },
     "metadata": {},
     "output_type": "display_data"
    }
   ],
   "source": [
    "ax = sns.regplot(\"days_per_week\", 'workout', data=survey_data)\n",
    "plt.show()"
   ]
  },
  {
   "cell_type": "code",
   "execution_count": 359,
   "metadata": {},
   "outputs": [
    {
     "name": "stderr",
     "output_type": "stream",
     "text": [
      "/anaconda/lib/python3.6/site-packages/seaborn/categorical.py:1428: FutureWarning: remove_na is deprecated and is a private function. Do not use.\n",
      "  stat_data = remove_na(group_data)\n"
     ]
    },
    {
     "data": {
      "image/png": "[encoded data removed]",
      "text/plain": [
       "<matplotlib.figure.Figure at 0x10fbe0fd0>"
      ]
     },
     "metadata": {},
     "output_type": "display_data"
    }
   ],
   "source": [
    "ax = sns.countplot(survey_data[survey_data.Major == 'Informatics'].mental_health)\n",
    "plt.show()"
   ]
  },
  {
   "cell_type": "code",
   "execution_count": null,
   "metadata": {
    "collapsed": true
   },
   "outputs": [],
   "source": []
  }
 ],
 "metadata": {
  "kernelspec": {
   "display_name": "Python 3",
   "language": "python",
   "name": "python3"
  },
  "language_info": {
   "codemirror_mode": {
    "name": "ipython",
    "version": 3
   },
   "file_extension": ".py",
   "mimetype": "text/x-python",
   "name": "python",
   "nbconvert_exporter": "python",
   "pygments_lexer": "ipython3",
   "version": "3.6.1"
  }
 },
 "nbformat": 4,
 "nbformat_minor": 2
}
